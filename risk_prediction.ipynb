{
  "nbformat": 4,
  "nbformat_minor": 0,
  "metadata": {
    "colab": {
      "name": "risk_prediction.ipynb",
      "provenance": [],
      "collapsed_sections": [],
      "authorship_tag": "ABX9TyNFL/9exf2WxKZcsAJzxBVx",
      "include_colab_link": true
    },
    "kernelspec": {
      "name": "python3",
      "display_name": "Python 3"
    },
    "language_info": {
      "name": "python"
    }
  },
  "cells": [
    {
      "cell_type": "markdown",
      "metadata": {
        "id": "view-in-github",
        "colab_type": "text"
      },
      "source": [
        "<a href=\"https://colab.research.google.com/github/Roshni-Bala/Breast-Cancer-Risk-Prediction/blob/main/risk_prediction.ipynb\" target=\"_parent\"><img src=\"https://colab.research.google.com/assets/colab-badge.svg\" alt=\"Open In Colab\"/></a>"
      ]
    },
    {
      "cell_type": "markdown",
      "source": [
        "<h3>Breast Cancer Risk Prediciton</h3>\n",
        "Data Source: University of California, Irvine (UCI) dataset"
      ],
      "metadata": {
        "id": "sLSnLK5KA57C"
      }
    },
    {
      "cell_type": "markdown",
      "source": [
        "importing data with suitable headers\n"
      ],
      "metadata": {
        "id": "w-TUlvLWE4fN"
      }
    },
    {
      "cell_type": "code",
      "execution_count": 1,
      "metadata": {
        "id": "UuaXebiQDQxB",
        "colab": {
          "base_uri": "https://localhost:8080/",
          "height": 318
        },
        "outputId": "e2f51b67-0bb9-4ccf-c1e3-2fd7f20a6cb8"
      },
      "outputs": [
        {
          "output_type": "stream",
          "name": "stdout",
          "text": [
            "(569, 32)\n"
          ]
        },
        {
          "output_type": "execute_result",
          "data": {
            "text/plain": [
              "         id diagnosis  radius_mean  texture_mean  perimeter_mean  area_mean  \\\n",
              "0    842302         M        17.99         10.38          122.80     1001.0   \n",
              "1    842517         M        20.57         17.77          132.90     1326.0   \n",
              "2  84300903         M        19.69         21.25          130.00     1203.0   \n",
              "3  84348301         M        11.42         20.38           77.58      386.1   \n",
              "4  84358402         M        20.29         14.34          135.10     1297.0   \n",
              "\n",
              "   smoothness_mean  compactness_mean  concavity_mean  concave_points_mean  \\\n",
              "0          0.11840           0.27760          0.3001              0.14710   \n",
              "1          0.08474           0.07864          0.0869              0.07017   \n",
              "2          0.10960           0.15990          0.1974              0.12790   \n",
              "3          0.14250           0.28390          0.2414              0.10520   \n",
              "4          0.10030           0.13280          0.1980              0.10430   \n",
              "\n",
              "   ...  radius_w  texture_w  perimeter_w  area_w  smoothness_w  compactness_w  \\\n",
              "0  ...     25.38      17.33       184.60  2019.0        0.1622         0.6656   \n",
              "1  ...     24.99      23.41       158.80  1956.0        0.1238         0.1866   \n",
              "2  ...     23.57      25.53       152.50  1709.0        0.1444         0.4245   \n",
              "3  ...     14.91      26.50        98.87   567.7        0.2098         0.8663   \n",
              "4  ...     22.54      16.67       152.20  1575.0        0.1374         0.2050   \n",
              "\n",
              "   concavity_w  concave_points_w  symmetry_w  fractal_dimension_w  \n",
              "0       0.7119            0.2654      0.4601              0.11890  \n",
              "1       0.2416            0.1860      0.2750              0.08902  \n",
              "2       0.4504            0.2430      0.3613              0.08758  \n",
              "3       0.6869            0.2575      0.6638              0.17300  \n",
              "4       0.4000            0.1625      0.2364              0.07678  \n",
              "\n",
              "[5 rows x 32 columns]"
            ],
            "text/html": [
              "\n",
              "  <div id=\"df-87757f8c-e87a-4878-bc86-45c3b92826c7\">\n",
              "    <div class=\"colab-df-container\">\n",
              "      <div>\n",
              "<style scoped>\n",
              "    .dataframe tbody tr th:only-of-type {\n",
              "        vertical-align: middle;\n",
              "    }\n",
              "\n",
              "    .dataframe tbody tr th {\n",
              "        vertical-align: top;\n",
              "    }\n",
              "\n",
              "    .dataframe thead th {\n",
              "        text-align: right;\n",
              "    }\n",
              "</style>\n",
              "<table border=\"1\" class=\"dataframe\">\n",
              "  <thead>\n",
              "    <tr style=\"text-align: right;\">\n",
              "      <th></th>\n",
              "      <th>id</th>\n",
              "      <th>diagnosis</th>\n",
              "      <th>radius_mean</th>\n",
              "      <th>texture_mean</th>\n",
              "      <th>perimeter_mean</th>\n",
              "      <th>area_mean</th>\n",
              "      <th>smoothness_mean</th>\n",
              "      <th>compactness_mean</th>\n",
              "      <th>concavity_mean</th>\n",
              "      <th>concave_points_mean</th>\n",
              "      <th>...</th>\n",
              "      <th>radius_w</th>\n",
              "      <th>texture_w</th>\n",
              "      <th>perimeter_w</th>\n",
              "      <th>area_w</th>\n",
              "      <th>smoothness_w</th>\n",
              "      <th>compactness_w</th>\n",
              "      <th>concavity_w</th>\n",
              "      <th>concave_points_w</th>\n",
              "      <th>symmetry_w</th>\n",
              "      <th>fractal_dimension_w</th>\n",
              "    </tr>\n",
              "  </thead>\n",
              "  <tbody>\n",
              "    <tr>\n",
              "      <th>0</th>\n",
              "      <td>842302</td>\n",
              "      <td>M</td>\n",
              "      <td>17.99</td>\n",
              "      <td>10.38</td>\n",
              "      <td>122.80</td>\n",
              "      <td>1001.0</td>\n",
              "      <td>0.11840</td>\n",
              "      <td>0.27760</td>\n",
              "      <td>0.3001</td>\n",
              "      <td>0.14710</td>\n",
              "      <td>...</td>\n",
              "      <td>25.38</td>\n",
              "      <td>17.33</td>\n",
              "      <td>184.60</td>\n",
              "      <td>2019.0</td>\n",
              "      <td>0.1622</td>\n",
              "      <td>0.6656</td>\n",
              "      <td>0.7119</td>\n",
              "      <td>0.2654</td>\n",
              "      <td>0.4601</td>\n",
              "      <td>0.11890</td>\n",
              "    </tr>\n",
              "    <tr>\n",
              "      <th>1</th>\n",
              "      <td>842517</td>\n",
              "      <td>M</td>\n",
              "      <td>20.57</td>\n",
              "      <td>17.77</td>\n",
              "      <td>132.90</td>\n",
              "      <td>1326.0</td>\n",
              "      <td>0.08474</td>\n",
              "      <td>0.07864</td>\n",
              "      <td>0.0869</td>\n",
              "      <td>0.07017</td>\n",
              "      <td>...</td>\n",
              "      <td>24.99</td>\n",
              "      <td>23.41</td>\n",
              "      <td>158.80</td>\n",
              "      <td>1956.0</td>\n",
              "      <td>0.1238</td>\n",
              "      <td>0.1866</td>\n",
              "      <td>0.2416</td>\n",
              "      <td>0.1860</td>\n",
              "      <td>0.2750</td>\n",
              "      <td>0.08902</td>\n",
              "    </tr>\n",
              "    <tr>\n",
              "      <th>2</th>\n",
              "      <td>84300903</td>\n",
              "      <td>M</td>\n",
              "      <td>19.69</td>\n",
              "      <td>21.25</td>\n",
              "      <td>130.00</td>\n",
              "      <td>1203.0</td>\n",
              "      <td>0.10960</td>\n",
              "      <td>0.15990</td>\n",
              "      <td>0.1974</td>\n",
              "      <td>0.12790</td>\n",
              "      <td>...</td>\n",
              "      <td>23.57</td>\n",
              "      <td>25.53</td>\n",
              "      <td>152.50</td>\n",
              "      <td>1709.0</td>\n",
              "      <td>0.1444</td>\n",
              "      <td>0.4245</td>\n",
              "      <td>0.4504</td>\n",
              "      <td>0.2430</td>\n",
              "      <td>0.3613</td>\n",
              "      <td>0.08758</td>\n",
              "    </tr>\n",
              "    <tr>\n",
              "      <th>3</th>\n",
              "      <td>84348301</td>\n",
              "      <td>M</td>\n",
              "      <td>11.42</td>\n",
              "      <td>20.38</td>\n",
              "      <td>77.58</td>\n",
              "      <td>386.1</td>\n",
              "      <td>0.14250</td>\n",
              "      <td>0.28390</td>\n",
              "      <td>0.2414</td>\n",
              "      <td>0.10520</td>\n",
              "      <td>...</td>\n",
              "      <td>14.91</td>\n",
              "      <td>26.50</td>\n",
              "      <td>98.87</td>\n",
              "      <td>567.7</td>\n",
              "      <td>0.2098</td>\n",
              "      <td>0.8663</td>\n",
              "      <td>0.6869</td>\n",
              "      <td>0.2575</td>\n",
              "      <td>0.6638</td>\n",
              "      <td>0.17300</td>\n",
              "    </tr>\n",
              "    <tr>\n",
              "      <th>4</th>\n",
              "      <td>84358402</td>\n",
              "      <td>M</td>\n",
              "      <td>20.29</td>\n",
              "      <td>14.34</td>\n",
              "      <td>135.10</td>\n",
              "      <td>1297.0</td>\n",
              "      <td>0.10030</td>\n",
              "      <td>0.13280</td>\n",
              "      <td>0.1980</td>\n",
              "      <td>0.10430</td>\n",
              "      <td>...</td>\n",
              "      <td>22.54</td>\n",
              "      <td>16.67</td>\n",
              "      <td>152.20</td>\n",
              "      <td>1575.0</td>\n",
              "      <td>0.1374</td>\n",
              "      <td>0.2050</td>\n",
              "      <td>0.4000</td>\n",
              "      <td>0.1625</td>\n",
              "      <td>0.2364</td>\n",
              "      <td>0.07678</td>\n",
              "    </tr>\n",
              "  </tbody>\n",
              "</table>\n",
              "<p>5 rows × 32 columns</p>\n",
              "</div>\n",
              "      <button class=\"colab-df-convert\" onclick=\"convertToInteractive('df-87757f8c-e87a-4878-bc86-45c3b92826c7')\"\n",
              "              title=\"Convert this dataframe to an interactive table.\"\n",
              "              style=\"display:none;\">\n",
              "        \n",
              "  <svg xmlns=\"http://www.w3.org/2000/svg\" height=\"24px\"viewBox=\"0 0 24 24\"\n",
              "       width=\"24px\">\n",
              "    <path d=\"M0 0h24v24H0V0z\" fill=\"none\"/>\n",
              "    <path d=\"M18.56 5.44l.94 2.06.94-2.06 2.06-.94-2.06-.94-.94-2.06-.94 2.06-2.06.94zm-11 1L8.5 8.5l.94-2.06 2.06-.94-2.06-.94L8.5 2.5l-.94 2.06-2.06.94zm10 10l.94 2.06.94-2.06 2.06-.94-2.06-.94-.94-2.06-.94 2.06-2.06.94z\"/><path d=\"M17.41 7.96l-1.37-1.37c-.4-.4-.92-.59-1.43-.59-.52 0-1.04.2-1.43.59L10.3 9.45l-7.72 7.72c-.78.78-.78 2.05 0 2.83L4 21.41c.39.39.9.59 1.41.59.51 0 1.02-.2 1.41-.59l7.78-7.78 2.81-2.81c.8-.78.8-2.07 0-2.86zM5.41 20L4 18.59l7.72-7.72 1.47 1.35L5.41 20z\"/>\n",
              "  </svg>\n",
              "      </button>\n",
              "      \n",
              "  <style>\n",
              "    .colab-df-container {\n",
              "      display:flex;\n",
              "      flex-wrap:wrap;\n",
              "      gap: 12px;\n",
              "    }\n",
              "\n",
              "    .colab-df-convert {\n",
              "      background-color: #E8F0FE;\n",
              "      border: none;\n",
              "      border-radius: 50%;\n",
              "      cursor: pointer;\n",
              "      display: none;\n",
              "      fill: #1967D2;\n",
              "      height: 32px;\n",
              "      padding: 0 0 0 0;\n",
              "      width: 32px;\n",
              "    }\n",
              "\n",
              "    .colab-df-convert:hover {\n",
              "      background-color: #E2EBFA;\n",
              "      box-shadow: 0px 1px 2px rgba(60, 64, 67, 0.3), 0px 1px 3px 1px rgba(60, 64, 67, 0.15);\n",
              "      fill: #174EA6;\n",
              "    }\n",
              "\n",
              "    [theme=dark] .colab-df-convert {\n",
              "      background-color: #3B4455;\n",
              "      fill: #D2E3FC;\n",
              "    }\n",
              "\n",
              "    [theme=dark] .colab-df-convert:hover {\n",
              "      background-color: #434B5C;\n",
              "      box-shadow: 0px 1px 3px 1px rgba(0, 0, 0, 0.15);\n",
              "      filter: drop-shadow(0px 1px 2px rgba(0, 0, 0, 0.3));\n",
              "      fill: #FFFFFF;\n",
              "    }\n",
              "  </style>\n",
              "\n",
              "      <script>\n",
              "        const buttonEl =\n",
              "          document.querySelector('#df-87757f8c-e87a-4878-bc86-45c3b92826c7 button.colab-df-convert');\n",
              "        buttonEl.style.display =\n",
              "          google.colab.kernel.accessAllowed ? 'block' : 'none';\n",
              "\n",
              "        async function convertToInteractive(key) {\n",
              "          const element = document.querySelector('#df-87757f8c-e87a-4878-bc86-45c3b92826c7');\n",
              "          const dataTable =\n",
              "            await google.colab.kernel.invokeFunction('convertToInteractive',\n",
              "                                                     [key], {});\n",
              "          if (!dataTable) return;\n",
              "\n",
              "          const docLinkHtml = 'Like what you see? Visit the ' +\n",
              "            '<a target=\"_blank\" href=https://colab.research.google.com/notebooks/data_table.ipynb>data table notebook</a>'\n",
              "            + ' to learn more about interactive tables.';\n",
              "          element.innerHTML = '';\n",
              "          dataTable['output_type'] = 'display_data';\n",
              "          await google.colab.output.renderOutput(dataTable, element);\n",
              "          const docLink = document.createElement('div');\n",
              "          docLink.innerHTML = docLinkHtml;\n",
              "          element.appendChild(docLink);\n",
              "        }\n",
              "      </script>\n",
              "    </div>\n",
              "  </div>\n",
              "  "
            ]
          },
          "metadata": {},
          "execution_count": 1
        }
      ],
      "source": [
        "import pandas as pd\n",
        "\n",
        "titles = ['id',\t'diagnosis',\t'radius_mean','texture_mean',\t'perimeter_mean',\t'area_mean',\t'smoothness_mean',\t'compactness_mean',\t'concavity_mean', 'concave_points_mean','symmetry_mean',\t'fractal_dimension_mean','radius_stderr', 'texture_stderr', 'perimeter_stderr', 'area_stderr', 'smoothness_stderr', 'compactness_stderr', 'concavity_stderr', 'concave_points_stderr', 'symmetry_stderr', 'fractal_dimension_stderr','radius_w', 'texture_w', 'perimeter_w', 'area_w', 'smoothness_w', 'compactness_w', 'concavity_w', 'concave_points_w', 'symmetry_w', 'fractal_dimension_w']\n",
        "df = pd.read_csv('http://archive.ics.uci.edu/ml/machine-learning-databases/breast-cancer-wisconsin/wdbc.data', names=titles)\n",
        "print(df.shape)\n",
        "df.head()"
      ]
    },
    {
      "cell_type": "markdown",
      "source": [
        "getting info about data - data type and count of values"
      ],
      "metadata": {
        "id": "VkYvFTjFE7qA"
      }
    },
    {
      "cell_type": "code",
      "source": [
        "df.info()"
      ],
      "metadata": {
        "colab": {
          "base_uri": "https://localhost:8080/"
        },
        "id": "gnihKa6JWNyC",
        "outputId": "c402652a-0869-46da-a407-4a42a3c7bbef"
      },
      "execution_count": null,
      "outputs": [
        {
          "output_type": "stream",
          "name": "stdout",
          "text": [
            "<class 'pandas.core.frame.DataFrame'>\n",
            "RangeIndex: 569 entries, 0 to 568\n",
            "Data columns (total 32 columns):\n",
            " #   Column                    Non-Null Count  Dtype  \n",
            "---  ------                    --------------  -----  \n",
            " 0   id                        569 non-null    int64  \n",
            " 1   diagnosis                 569 non-null    object \n",
            " 2   radius_mean               569 non-null    float64\n",
            " 3   texture_mean              569 non-null    float64\n",
            " 4   perimeter_mean            569 non-null    float64\n",
            " 5   area_mean                 569 non-null    float64\n",
            " 6   smoothness_mean           569 non-null    float64\n",
            " 7   compactness_mean          569 non-null    float64\n",
            " 8   concavity_mean            569 non-null    float64\n",
            " 9   concave_points_mean       569 non-null    float64\n",
            " 10  symmetry_mean             569 non-null    float64\n",
            " 11  fractal_dimension_mean    569 non-null    float64\n",
            " 12  radius_stderr             569 non-null    float64\n",
            " 13  texture_stderr            569 non-null    float64\n",
            " 14  perimeter_stderr          569 non-null    float64\n",
            " 15  area_stderr               569 non-null    float64\n",
            " 16  smoothness_stderr         569 non-null    float64\n",
            " 17  compactness_stderr        569 non-null    float64\n",
            " 18  concavity_stderr          569 non-null    float64\n",
            " 19  concave_points_stderr     569 non-null    float64\n",
            " 20  symmetry_stderr           569 non-null    float64\n",
            " 21  fractal_dimension_stderr  569 non-null    float64\n",
            " 22  radius_w                  569 non-null    float64\n",
            " 23  texture_w                 569 non-null    float64\n",
            " 24  perimeter_w               569 non-null    float64\n",
            " 25  area_w                    569 non-null    float64\n",
            " 26  smoothness_w              569 non-null    float64\n",
            " 27  compactness_w             569 non-null    float64\n",
            " 28  concavity_w               569 non-null    float64\n",
            " 29  concave_points_w          569 non-null    float64\n",
            " 30  symmetry_w                569 non-null    float64\n",
            " 31  fractal_dimension_w       569 non-null    float64\n",
            "dtypes: float64(30), int64(1), object(1)\n",
            "memory usage: 142.4+ KB\n"
          ]
        }
      ]
    },
    {
      "cell_type": "markdown",
      "source": [
        "describing the data in detail - count, mean, std, max, min, quartiles"
      ],
      "metadata": {
        "id": "DliNJjVkFBUE"
      }
    },
    {
      "cell_type": "code",
      "source": [
        "df.describe()"
      ],
      "metadata": {
        "id": "mCtcgcyBZ_1a",
        "colab": {
          "base_uri": "https://localhost:8080/",
          "height": 394
        },
        "outputId": "80462993-157b-4b80-a159-8248f8ccd290"
      },
      "execution_count": null,
      "outputs": [
        {
          "output_type": "execute_result",
          "data": {
            "text/plain": [
              "                 id  radius_mean  texture_mean  perimeter_mean    area_mean  \\\n",
              "count  5.690000e+02   569.000000    569.000000      569.000000   569.000000   \n",
              "mean   3.037183e+07    14.127292     19.289649       91.969033   654.889104   \n",
              "std    1.250206e+08     3.524049      4.301036       24.298981   351.914129   \n",
              "min    8.670000e+03     6.981000      9.710000       43.790000   143.500000   \n",
              "25%    8.692180e+05    11.700000     16.170000       75.170000   420.300000   \n",
              "50%    9.060240e+05    13.370000     18.840000       86.240000   551.100000   \n",
              "75%    8.813129e+06    15.780000     21.800000      104.100000   782.700000   \n",
              "max    9.113205e+08    28.110000     39.280000      188.500000  2501.000000   \n",
              "\n",
              "       smoothness_mean  compactness_mean  concavity_mean  concave_points_mean  \\\n",
              "count       569.000000        569.000000      569.000000           569.000000   \n",
              "mean          0.096360          0.104341        0.088799             0.048919   \n",
              "std           0.014064          0.052813        0.079720             0.038803   \n",
              "min           0.052630          0.019380        0.000000             0.000000   \n",
              "25%           0.086370          0.064920        0.029560             0.020310   \n",
              "50%           0.095870          0.092630        0.061540             0.033500   \n",
              "75%           0.105300          0.130400        0.130700             0.074000   \n",
              "max           0.163400          0.345400        0.426800             0.201200   \n",
              "\n",
              "       symmetry_mean  ...    radius_w   texture_w  perimeter_w       area_w  \\\n",
              "count     569.000000  ...  569.000000  569.000000   569.000000   569.000000   \n",
              "mean        0.181162  ...   16.269190   25.677223   107.261213   880.583128   \n",
              "std         0.027414  ...    4.833242    6.146258    33.602542   569.356993   \n",
              "min         0.106000  ...    7.930000   12.020000    50.410000   185.200000   \n",
              "25%         0.161900  ...   13.010000   21.080000    84.110000   515.300000   \n",
              "50%         0.179200  ...   14.970000   25.410000    97.660000   686.500000   \n",
              "75%         0.195700  ...   18.790000   29.720000   125.400000  1084.000000   \n",
              "max         0.304000  ...   36.040000   49.540000   251.200000  4254.000000   \n",
              "\n",
              "       smoothness_w  compactness_w  concavity_w  concave_points_w  symmetry_w  \\\n",
              "count    569.000000     569.000000   569.000000        569.000000  569.000000   \n",
              "mean       0.132369       0.254265     0.272188          0.114606    0.290076   \n",
              "std        0.022832       0.157336     0.208624          0.065732    0.061867   \n",
              "min        0.071170       0.027290     0.000000          0.000000    0.156500   \n",
              "25%        0.116600       0.147200     0.114500          0.064930    0.250400   \n",
              "50%        0.131300       0.211900     0.226700          0.099930    0.282200   \n",
              "75%        0.146000       0.339100     0.382900          0.161400    0.317900   \n",
              "max        0.222600       1.058000     1.252000          0.291000    0.663800   \n",
              "\n",
              "       fractal_dimension_w  \n",
              "count           569.000000  \n",
              "mean              0.083946  \n",
              "std               0.018061  \n",
              "min               0.055040  \n",
              "25%               0.071460  \n",
              "50%               0.080040  \n",
              "75%               0.092080  \n",
              "max               0.207500  \n",
              "\n",
              "[8 rows x 31 columns]"
            ],
            "text/html": [
              "\n",
              "  <div id=\"df-93996684-3149-4680-a7bf-3ca92cf92419\">\n",
              "    <div class=\"colab-df-container\">\n",
              "      <div>\n",
              "<style scoped>\n",
              "    .dataframe tbody tr th:only-of-type {\n",
              "        vertical-align: middle;\n",
              "    }\n",
              "\n",
              "    .dataframe tbody tr th {\n",
              "        vertical-align: top;\n",
              "    }\n",
              "\n",
              "    .dataframe thead th {\n",
              "        text-align: right;\n",
              "    }\n",
              "</style>\n",
              "<table border=\"1\" class=\"dataframe\">\n",
              "  <thead>\n",
              "    <tr style=\"text-align: right;\">\n",
              "      <th></th>\n",
              "      <th>id</th>\n",
              "      <th>radius_mean</th>\n",
              "      <th>texture_mean</th>\n",
              "      <th>perimeter_mean</th>\n",
              "      <th>area_mean</th>\n",
              "      <th>smoothness_mean</th>\n",
              "      <th>compactness_mean</th>\n",
              "      <th>concavity_mean</th>\n",
              "      <th>concave_points_mean</th>\n",
              "      <th>symmetry_mean</th>\n",
              "      <th>...</th>\n",
              "      <th>radius_w</th>\n",
              "      <th>texture_w</th>\n",
              "      <th>perimeter_w</th>\n",
              "      <th>area_w</th>\n",
              "      <th>smoothness_w</th>\n",
              "      <th>compactness_w</th>\n",
              "      <th>concavity_w</th>\n",
              "      <th>concave_points_w</th>\n",
              "      <th>symmetry_w</th>\n",
              "      <th>fractal_dimension_w</th>\n",
              "    </tr>\n",
              "  </thead>\n",
              "  <tbody>\n",
              "    <tr>\n",
              "      <th>count</th>\n",
              "      <td>5.690000e+02</td>\n",
              "      <td>569.000000</td>\n",
              "      <td>569.000000</td>\n",
              "      <td>569.000000</td>\n",
              "      <td>569.000000</td>\n",
              "      <td>569.000000</td>\n",
              "      <td>569.000000</td>\n",
              "      <td>569.000000</td>\n",
              "      <td>569.000000</td>\n",
              "      <td>569.000000</td>\n",
              "      <td>...</td>\n",
              "      <td>569.000000</td>\n",
              "      <td>569.000000</td>\n",
              "      <td>569.000000</td>\n",
              "      <td>569.000000</td>\n",
              "      <td>569.000000</td>\n",
              "      <td>569.000000</td>\n",
              "      <td>569.000000</td>\n",
              "      <td>569.000000</td>\n",
              "      <td>569.000000</td>\n",
              "      <td>569.000000</td>\n",
              "    </tr>\n",
              "    <tr>\n",
              "      <th>mean</th>\n",
              "      <td>3.037183e+07</td>\n",
              "      <td>14.127292</td>\n",
              "      <td>19.289649</td>\n",
              "      <td>91.969033</td>\n",
              "      <td>654.889104</td>\n",
              "      <td>0.096360</td>\n",
              "      <td>0.104341</td>\n",
              "      <td>0.088799</td>\n",
              "      <td>0.048919</td>\n",
              "      <td>0.181162</td>\n",
              "      <td>...</td>\n",
              "      <td>16.269190</td>\n",
              "      <td>25.677223</td>\n",
              "      <td>107.261213</td>\n",
              "      <td>880.583128</td>\n",
              "      <td>0.132369</td>\n",
              "      <td>0.254265</td>\n",
              "      <td>0.272188</td>\n",
              "      <td>0.114606</td>\n",
              "      <td>0.290076</td>\n",
              "      <td>0.083946</td>\n",
              "    </tr>\n",
              "    <tr>\n",
              "      <th>std</th>\n",
              "      <td>1.250206e+08</td>\n",
              "      <td>3.524049</td>\n",
              "      <td>4.301036</td>\n",
              "      <td>24.298981</td>\n",
              "      <td>351.914129</td>\n",
              "      <td>0.014064</td>\n",
              "      <td>0.052813</td>\n",
              "      <td>0.079720</td>\n",
              "      <td>0.038803</td>\n",
              "      <td>0.027414</td>\n",
              "      <td>...</td>\n",
              "      <td>4.833242</td>\n",
              "      <td>6.146258</td>\n",
              "      <td>33.602542</td>\n",
              "      <td>569.356993</td>\n",
              "      <td>0.022832</td>\n",
              "      <td>0.157336</td>\n",
              "      <td>0.208624</td>\n",
              "      <td>0.065732</td>\n",
              "      <td>0.061867</td>\n",
              "      <td>0.018061</td>\n",
              "    </tr>\n",
              "    <tr>\n",
              "      <th>min</th>\n",
              "      <td>8.670000e+03</td>\n",
              "      <td>6.981000</td>\n",
              "      <td>9.710000</td>\n",
              "      <td>43.790000</td>\n",
              "      <td>143.500000</td>\n",
              "      <td>0.052630</td>\n",
              "      <td>0.019380</td>\n",
              "      <td>0.000000</td>\n",
              "      <td>0.000000</td>\n",
              "      <td>0.106000</td>\n",
              "      <td>...</td>\n",
              "      <td>7.930000</td>\n",
              "      <td>12.020000</td>\n",
              "      <td>50.410000</td>\n",
              "      <td>185.200000</td>\n",
              "      <td>0.071170</td>\n",
              "      <td>0.027290</td>\n",
              "      <td>0.000000</td>\n",
              "      <td>0.000000</td>\n",
              "      <td>0.156500</td>\n",
              "      <td>0.055040</td>\n",
              "    </tr>\n",
              "    <tr>\n",
              "      <th>25%</th>\n",
              "      <td>8.692180e+05</td>\n",
              "      <td>11.700000</td>\n",
              "      <td>16.170000</td>\n",
              "      <td>75.170000</td>\n",
              "      <td>420.300000</td>\n",
              "      <td>0.086370</td>\n",
              "      <td>0.064920</td>\n",
              "      <td>0.029560</td>\n",
              "      <td>0.020310</td>\n",
              "      <td>0.161900</td>\n",
              "      <td>...</td>\n",
              "      <td>13.010000</td>\n",
              "      <td>21.080000</td>\n",
              "      <td>84.110000</td>\n",
              "      <td>515.300000</td>\n",
              "      <td>0.116600</td>\n",
              "      <td>0.147200</td>\n",
              "      <td>0.114500</td>\n",
              "      <td>0.064930</td>\n",
              "      <td>0.250400</td>\n",
              "      <td>0.071460</td>\n",
              "    </tr>\n",
              "    <tr>\n",
              "      <th>50%</th>\n",
              "      <td>9.060240e+05</td>\n",
              "      <td>13.370000</td>\n",
              "      <td>18.840000</td>\n",
              "      <td>86.240000</td>\n",
              "      <td>551.100000</td>\n",
              "      <td>0.095870</td>\n",
              "      <td>0.092630</td>\n",
              "      <td>0.061540</td>\n",
              "      <td>0.033500</td>\n",
              "      <td>0.179200</td>\n",
              "      <td>...</td>\n",
              "      <td>14.970000</td>\n",
              "      <td>25.410000</td>\n",
              "      <td>97.660000</td>\n",
              "      <td>686.500000</td>\n",
              "      <td>0.131300</td>\n",
              "      <td>0.211900</td>\n",
              "      <td>0.226700</td>\n",
              "      <td>0.099930</td>\n",
              "      <td>0.282200</td>\n",
              "      <td>0.080040</td>\n",
              "    </tr>\n",
              "    <tr>\n",
              "      <th>75%</th>\n",
              "      <td>8.813129e+06</td>\n",
              "      <td>15.780000</td>\n",
              "      <td>21.800000</td>\n",
              "      <td>104.100000</td>\n",
              "      <td>782.700000</td>\n",
              "      <td>0.105300</td>\n",
              "      <td>0.130400</td>\n",
              "      <td>0.130700</td>\n",
              "      <td>0.074000</td>\n",
              "      <td>0.195700</td>\n",
              "      <td>...</td>\n",
              "      <td>18.790000</td>\n",
              "      <td>29.720000</td>\n",
              "      <td>125.400000</td>\n",
              "      <td>1084.000000</td>\n",
              "      <td>0.146000</td>\n",
              "      <td>0.339100</td>\n",
              "      <td>0.382900</td>\n",
              "      <td>0.161400</td>\n",
              "      <td>0.317900</td>\n",
              "      <td>0.092080</td>\n",
              "    </tr>\n",
              "    <tr>\n",
              "      <th>max</th>\n",
              "      <td>9.113205e+08</td>\n",
              "      <td>28.110000</td>\n",
              "      <td>39.280000</td>\n",
              "      <td>188.500000</td>\n",
              "      <td>2501.000000</td>\n",
              "      <td>0.163400</td>\n",
              "      <td>0.345400</td>\n",
              "      <td>0.426800</td>\n",
              "      <td>0.201200</td>\n",
              "      <td>0.304000</td>\n",
              "      <td>...</td>\n",
              "      <td>36.040000</td>\n",
              "      <td>49.540000</td>\n",
              "      <td>251.200000</td>\n",
              "      <td>4254.000000</td>\n",
              "      <td>0.222600</td>\n",
              "      <td>1.058000</td>\n",
              "      <td>1.252000</td>\n",
              "      <td>0.291000</td>\n",
              "      <td>0.663800</td>\n",
              "      <td>0.207500</td>\n",
              "    </tr>\n",
              "  </tbody>\n",
              "</table>\n",
              "<p>8 rows × 31 columns</p>\n",
              "</div>\n",
              "      <button class=\"colab-df-convert\" onclick=\"convertToInteractive('df-93996684-3149-4680-a7bf-3ca92cf92419')\"\n",
              "              title=\"Convert this dataframe to an interactive table.\"\n",
              "              style=\"display:none;\">\n",
              "        \n",
              "  <svg xmlns=\"http://www.w3.org/2000/svg\" height=\"24px\"viewBox=\"0 0 24 24\"\n",
              "       width=\"24px\">\n",
              "    <path d=\"M0 0h24v24H0V0z\" fill=\"none\"/>\n",
              "    <path d=\"M18.56 5.44l.94 2.06.94-2.06 2.06-.94-2.06-.94-.94-2.06-.94 2.06-2.06.94zm-11 1L8.5 8.5l.94-2.06 2.06-.94-2.06-.94L8.5 2.5l-.94 2.06-2.06.94zm10 10l.94 2.06.94-2.06 2.06-.94-2.06-.94-.94-2.06-.94 2.06-2.06.94z\"/><path d=\"M17.41 7.96l-1.37-1.37c-.4-.4-.92-.59-1.43-.59-.52 0-1.04.2-1.43.59L10.3 9.45l-7.72 7.72c-.78.78-.78 2.05 0 2.83L4 21.41c.39.39.9.59 1.41.59.51 0 1.02-.2 1.41-.59l7.78-7.78 2.81-2.81c.8-.78.8-2.07 0-2.86zM5.41 20L4 18.59l7.72-7.72 1.47 1.35L5.41 20z\"/>\n",
              "  </svg>\n",
              "      </button>\n",
              "      \n",
              "  <style>\n",
              "    .colab-df-container {\n",
              "      display:flex;\n",
              "      flex-wrap:wrap;\n",
              "      gap: 12px;\n",
              "    }\n",
              "\n",
              "    .colab-df-convert {\n",
              "      background-color: #E8F0FE;\n",
              "      border: none;\n",
              "      border-radius: 50%;\n",
              "      cursor: pointer;\n",
              "      display: none;\n",
              "      fill: #1967D2;\n",
              "      height: 32px;\n",
              "      padding: 0 0 0 0;\n",
              "      width: 32px;\n",
              "    }\n",
              "\n",
              "    .colab-df-convert:hover {\n",
              "      background-color: #E2EBFA;\n",
              "      box-shadow: 0px 1px 2px rgba(60, 64, 67, 0.3), 0px 1px 3px 1px rgba(60, 64, 67, 0.15);\n",
              "      fill: #174EA6;\n",
              "    }\n",
              "\n",
              "    [theme=dark] .colab-df-convert {\n",
              "      background-color: #3B4455;\n",
              "      fill: #D2E3FC;\n",
              "    }\n",
              "\n",
              "    [theme=dark] .colab-df-convert:hover {\n",
              "      background-color: #434B5C;\n",
              "      box-shadow: 0px 1px 3px 1px rgba(0, 0, 0, 0.15);\n",
              "      filter: drop-shadow(0px 1px 2px rgba(0, 0, 0, 0.3));\n",
              "      fill: #FFFFFF;\n",
              "    }\n",
              "  </style>\n",
              "\n",
              "      <script>\n",
              "        const buttonEl =\n",
              "          document.querySelector('#df-93996684-3149-4680-a7bf-3ca92cf92419 button.colab-df-convert');\n",
              "        buttonEl.style.display =\n",
              "          google.colab.kernel.accessAllowed ? 'block' : 'none';\n",
              "\n",
              "        async function convertToInteractive(key) {\n",
              "          const element = document.querySelector('#df-93996684-3149-4680-a7bf-3ca92cf92419');\n",
              "          const dataTable =\n",
              "            await google.colab.kernel.invokeFunction('convertToInteractive',\n",
              "                                                     [key], {});\n",
              "          if (!dataTable) return;\n",
              "\n",
              "          const docLinkHtml = 'Like what you see? Visit the ' +\n",
              "            '<a target=\"_blank\" href=https://colab.research.google.com/notebooks/data_table.ipynb>data table notebook</a>'\n",
              "            + ' to learn more about interactive tables.';\n",
              "          element.innerHTML = '';\n",
              "          dataTable['output_type'] = 'display_data';\n",
              "          await google.colab.output.renderOutput(dataTable, element);\n",
              "          const docLink = document.createElement('div');\n",
              "          docLink.innerHTML = docLinkHtml;\n",
              "          element.appendChild(docLink);\n",
              "        }\n",
              "      </script>\n",
              "    </div>\n",
              "  </div>\n",
              "  "
            ]
          },
          "metadata": {},
          "execution_count": 16
        }
      ]
    },
    {
      "cell_type": "markdown",
      "source": [
        "checking for null values if present"
      ],
      "metadata": {
        "id": "GfX0iAJlFJGZ"
      }
    },
    {
      "cell_type": "code",
      "source": [
        "df.isnull().any()"
      ],
      "metadata": {
        "id": "a-K8sY8VfzP7",
        "colab": {
          "base_uri": "https://localhost:8080/"
        },
        "outputId": "4efeb2a7-4450-40d6-880f-e4f023a76b12"
      },
      "execution_count": null,
      "outputs": [
        {
          "output_type": "execute_result",
          "data": {
            "text/plain": [
              "id                          False\n",
              "diagnosis                   False\n",
              "radius_mean                 False\n",
              "texture_mean                False\n",
              "perimeter_mean              False\n",
              "area_mean                   False\n",
              "smoothness_mean             False\n",
              "compactness_mean            False\n",
              "concavity_mean              False\n",
              "concave_points_mean         False\n",
              "symmetry_mean               False\n",
              "fractal_dimension_mean      False\n",
              "radius_stderr               False\n",
              "texture_stderr              False\n",
              "perimeter_stderr            False\n",
              "area_stderr                 False\n",
              "smoothness_stderr           False\n",
              "compactness_stderr          False\n",
              "concavity_stderr            False\n",
              "concave_points_stderr       False\n",
              "symmetry_stderr             False\n",
              "fractal_dimension_stderr    False\n",
              "radius_w                    False\n",
              "texture_w                   False\n",
              "perimeter_w                 False\n",
              "area_w                      False\n",
              "smoothness_w                False\n",
              "compactness_w               False\n",
              "concavity_w                 False\n",
              "concave_points_w            False\n",
              "symmetry_w                  False\n",
              "fractal_dimension_w         False\n",
              "dtype: bool"
            ]
          },
          "metadata": {},
          "execution_count": 17
        }
      ]
    },
    {
      "cell_type": "markdown",
      "source": [
        "finding unique diagnosis present in dataset"
      ],
      "metadata": {
        "id": "Jy1T5LCRFO3j"
      }
    },
    {
      "cell_type": "code",
      "source": [
        "df.diagnosis.unique()"
      ],
      "metadata": {
        "colab": {
          "base_uri": "https://localhost:8080/"
        },
        "id": "cuEkWrohhrty",
        "outputId": "53bcd9a1-7d88-4940-dfd5-85aa6680dd50"
      },
      "execution_count": null,
      "outputs": [
        {
          "output_type": "execute_result",
          "data": {
            "text/plain": [
              "array(['M', 'B'], dtype=object)"
            ]
          },
          "metadata": {},
          "execution_count": 18
        }
      ]
    },
    {
      "cell_type": "markdown",
      "source": [
        "creating dataframe containing count of each type of diagnosis\n",
        "<br>\n",
        "here, B: Benign and M: Malignant"
      ],
      "metadata": {
        "id": "r-LdHF0IFQ7X"
      }
    },
    {
      "cell_type": "code",
      "source": [
        "df_diagnosis = df.groupby('diagnosis')\n",
        "dfdiagsize = df_diagnosis.size()\n",
        "print(dfdiagsize)"
      ],
      "metadata": {
        "colab": {
          "base_uri": "https://localhost:8080/"
        },
        "id": "cdoid9NtYS4W",
        "outputId": "a2f41f1e-de85-4b7b-a58d-aeda0697c63f"
      },
      "execution_count": 5,
      "outputs": [
        {
          "output_type": "stream",
          "name": "stdout",
          "text": [
            "diagnosis\n",
            "B    357\n",
            "M    212\n",
            "dtype: int64\n"
          ]
        }
      ]
    },
    {
      "cell_type": "markdown",
      "source": [
        "finding how much each data attribute is skewed"
      ],
      "metadata": {
        "id": "T-Ay4mQOFYVz"
      }
    },
    {
      "cell_type": "code",
      "source": [
        "df.skew()"
      ],
      "metadata": {
        "colab": {
          "base_uri": "https://localhost:8080/"
        },
        "id": "e-BUE-8lYlQT",
        "outputId": "0d3f1620-457a-44c3-e250-3a10d2875208"
      },
      "execution_count": null,
      "outputs": [
        {
          "output_type": "stream",
          "name": "stderr",
          "text": [
            "/usr/local/lib/python3.7/dist-packages/ipykernel_launcher.py:1: FutureWarning: Dropping of nuisance columns in DataFrame reductions (with 'numeric_only=None') is deprecated; in a future version this will raise TypeError.  Select only valid columns before calling the reduction.\n",
            "  \"\"\"Entry point for launching an IPython kernel.\n"
          ]
        },
        {
          "output_type": "execute_result",
          "data": {
            "text/plain": [
              "id                          6.473752\n",
              "radius_mean                 0.942380\n",
              "texture_mean                0.650450\n",
              "perimeter_mean              0.990650\n",
              "area_mean                   1.645732\n",
              "smoothness_mean             0.456324\n",
              "compactness_mean            1.190123\n",
              "concavity_mean              1.401180\n",
              "concave_points_mean         1.171180\n",
              "symmetry_mean               0.725609\n",
              "fractal_dimension_mean      1.304489\n",
              "radius_stderr               3.088612\n",
              "texture_stderr              1.646444\n",
              "perimeter_stderr            3.443615\n",
              "area_stderr                 5.447186\n",
              "smoothness_stderr           2.314450\n",
              "compactness_stderr          1.902221\n",
              "concavity_stderr            5.110463\n",
              "concave_points_stderr       1.444678\n",
              "symmetry_stderr             2.195133\n",
              "fractal_dimension_stderr    3.923969\n",
              "radius_w                    1.103115\n",
              "texture_w                   0.498321\n",
              "perimeter_w                 1.128164\n",
              "area_w                      1.859373\n",
              "smoothness_w                0.415426\n",
              "compactness_w               1.473555\n",
              "concavity_w                 1.150237\n",
              "concave_points_w            0.492616\n",
              "symmetry_w                  1.433928\n",
              "fractal_dimension_w         1.662579\n",
              "dtype: float64"
            ]
          },
          "metadata": {},
          "execution_count": 22
        }
      ]
    },
    {
      "cell_type": "code",
      "source": [
        "dfdiagsize.plot.bar()"
      ],
      "metadata": {
        "id": "vqmErT0_bmoH",
        "colab": {
          "base_uri": "https://localhost:8080/",
          "height": 296
        },
        "outputId": "1f48bf17-d58b-4f89-c5f3-0b53a50aa8de"
      },
      "execution_count": 8,
      "outputs": [
        {
          "output_type": "execute_result",
          "data": {
            "text/plain": [
              "<matplotlib.axes._subplots.AxesSubplot at 0x7ff37f22b150>"
            ]
          },
          "metadata": {},
          "execution_count": 8
        },
        {
          "output_type": "display_data",
          "data": {
            "text/plain": [
              "<Figure size 432x288 with 1 Axes>"
            ],
            "image/png": "[encoded data removed]"
          },
          "metadata": {
            "needs_background": "light"
          }
        }
      ]
    },
    {
      "cell_type": "code",
      "source": [
        "#create 3 different sections (mean, largest (worst), stderr)\n",
        "df_mean = df.iloc[:,2:12]\n",
        "df_stderr = df.iloc[:,12:22] \n",
        "df_worst =  df.iloc[:,22:32]\n",
        "print(df_mean)\n",
        "print(\"**\")\n",
        "print(df_stderr)\n",
        "print(\"**\")\n",
        "print(df_worst)"
      ],
      "metadata": {
        "id": "2GrmfIJzwjgv",
        "colab": {
          "base_uri": "https://localhost:8080/"
        },
        "outputId": "e1a0f64b-1756-4664-d713-ab9100c78bd1"
      },
      "execution_count": 28,
      "outputs": [
        {
          "output_type": "stream",
          "name": "stdout",
          "text": [
            "     radius_mean  texture_mean  perimeter_mean  area_mean  smoothness_mean  \\\n",
            "0          17.99         10.38          122.80     1001.0          0.11840   \n",
            "1          20.57         17.77          132.90     1326.0          0.08474   \n",
            "2          19.69         21.25          130.00     1203.0          0.10960   \n",
            "3          11.42         20.38           77.58      386.1          0.14250   \n",
            "4          20.29         14.34          135.10     1297.0          0.10030   \n",
            "..           ...           ...             ...        ...              ...   \n",
            "564        21.56         22.39          142.00     1479.0          0.11100   \n",
            "565        20.13         28.25          131.20     1261.0          0.09780   \n",
            "566        16.60         28.08          108.30      858.1          0.08455   \n",
            "567        20.60         29.33          140.10     1265.0          0.11780   \n",
            "568         7.76         24.54           47.92      181.0          0.05263   \n",
            "\n",
            "     compactness_mean  concavity_mean  concave_points_mean  symmetry_mean  \\\n",
            "0             0.27760         0.30010              0.14710         0.2419   \n",
            "1             0.07864         0.08690              0.07017         0.1812   \n",
            "2             0.15990         0.19740              0.12790         0.2069   \n",
            "3             0.28390         0.24140              0.10520         0.2597   \n",
            "4             0.13280         0.19800              0.10430         0.1809   \n",
            "..                ...             ...                  ...            ...   \n",
            "564           0.11590         0.24390              0.13890         0.1726   \n",
            "565           0.10340         0.14400              0.09791         0.1752   \n",
            "566           0.10230         0.09251              0.05302         0.1590   \n",
            "567           0.27700         0.35140              0.15200         0.2397   \n",
            "568           0.04362         0.00000              0.00000         0.1587   \n",
            "\n",
            "     fractal_dimension_mean  \n",
            "0                   0.07871  \n",
            "1                   0.05667  \n",
            "2                   0.05999  \n",
            "3                   0.09744  \n",
            "4                   0.05883  \n",
            "..                      ...  \n",
            "564                 0.05623  \n",
            "565                 0.05533  \n",
            "566                 0.05648  \n",
            "567                 0.07016  \n",
            "568                 0.05884  \n",
            "\n",
            "[569 rows x 10 columns]\n",
            "**\n",
            "     radius_stderr  texture_stderr  perimeter_stderr  area_stderr  \\\n",
            "0           1.0950          0.9053             8.589       153.40   \n",
            "1           0.5435          0.7339             3.398        74.08   \n",
            "2           0.7456          0.7869             4.585        94.03   \n",
            "3           0.4956          1.1560             3.445        27.23   \n",
            "4           0.7572          0.7813             5.438        94.44   \n",
            "..             ...             ...               ...          ...   \n",
            "564         1.1760          1.2560             7.673       158.70   \n",
            "565         0.7655          2.4630             5.203        99.04   \n",
            "566         0.4564          1.0750             3.425        48.55   \n",
            "567         0.7260          1.5950             5.772        86.22   \n",
            "568         0.3857          1.4280             2.548        19.15   \n",
            "\n",
            "     smoothness_stderr  compactness_stderr  concavity_stderr  \\\n",
            "0             0.006399             0.04904           0.05373   \n",
            "1             0.005225             0.01308           0.01860   \n",
            "2             0.006150             0.04006           0.03832   \n",
            "3             0.009110             0.07458           0.05661   \n",
            "4             0.011490             0.02461           0.05688   \n",
            "..                 ...                 ...               ...   \n",
            "564           0.010300             0.02891           0.05198   \n",
            "565           0.005769             0.02423           0.03950   \n",
            "566           0.005903             0.03731           0.04730   \n",
            "567           0.006522             0.06158           0.07117   \n",
            "568           0.007189             0.00466           0.00000   \n",
            "\n",
            "     concave_points_stderr  symmetry_stderr  fractal_dimension_stderr  \n",
            "0                  0.01587          0.03003                  0.006193  \n",
            "1                  0.01340          0.01389                  0.003532  \n",
            "2                  0.02058          0.02250                  0.004571  \n",
            "3                  0.01867          0.05963                  0.009208  \n",
            "4                  0.01885          0.01756                  0.005115  \n",
            "..                     ...              ...                       ...  \n",
            "564                0.02454          0.01114                  0.004239  \n",
            "565                0.01678          0.01898                  0.002498  \n",
            "566                0.01557          0.01318                  0.003892  \n",
            "567                0.01664          0.02324                  0.006185  \n",
            "568                0.00000          0.02676                  0.002783  \n",
            "\n",
            "[569 rows x 10 columns]\n",
            "**\n",
            "     radius_w  texture_w  perimeter_w  area_w  smoothness_w  compactness_w  \\\n",
            "0      25.380      17.33       184.60  2019.0       0.16220        0.66560   \n",
            "1      24.990      23.41       158.80  1956.0       0.12380        0.18660   \n",
            "2      23.570      25.53       152.50  1709.0       0.14440        0.42450   \n",
            "3      14.910      26.50        98.87   567.7       0.20980        0.86630   \n",
            "4      22.540      16.67       152.20  1575.0       0.13740        0.20500   \n",
            "..        ...        ...          ...     ...           ...            ...   \n",
            "564    25.450      26.40       166.10  2027.0       0.14100        0.21130   \n",
            "565    23.690      38.25       155.00  1731.0       0.11660        0.19220   \n",
            "566    18.980      34.12       126.70  1124.0       0.11390        0.30940   \n",
            "567    25.740      39.42       184.60  1821.0       0.16500        0.86810   \n",
            "568     9.456      30.37        59.16   268.6       0.08996        0.06444   \n",
            "\n",
            "     concavity_w  concave_points_w  symmetry_w  fractal_dimension_w  \n",
            "0         0.7119            0.2654      0.4601              0.11890  \n",
            "1         0.2416            0.1860      0.2750              0.08902  \n",
            "2         0.4504            0.2430      0.3613              0.08758  \n",
            "3         0.6869            0.2575      0.6638              0.17300  \n",
            "4         0.4000            0.1625      0.2364              0.07678  \n",
            "..           ...               ...         ...                  ...  \n",
            "564       0.4107            0.2216      0.2060              0.07115  \n",
            "565       0.3215            0.1628      0.2572              0.06637  \n",
            "566       0.3403            0.1418      0.2218              0.07820  \n",
            "567       0.9387            0.2650      0.4087              0.12400  \n",
            "568       0.0000            0.0000      0.2871              0.07039  \n",
            "\n",
            "[569 rows x 10 columns]\n"
          ]
        }
      ]
    },
    {
      "cell_type": "code",
      "source": [
        "df_mean.hist(bins=10, figsize=(10, 10), color = 'g')"
      ],
      "metadata": {
        "colab": {
          "base_uri": "https://localhost:8080/",
          "height": 843
        },
        "id": "GgdPHh6T_pEv",
        "outputId": "1a157088-b51d-43b9-e256-324f62a6a5f7"
      },
      "execution_count": 45,
      "outputs": [
        {
          "output_type": "execute_result",
          "data": {
            "text/plain": [
              "array([[<matplotlib.axes._subplots.AxesSubplot object at 0x7ff370b24250>,\n",
              "        <matplotlib.axes._subplots.AxesSubplot object at 0x7ff370b381d0>,\n",
              "        <matplotlib.axes._subplots.AxesSubplot object at 0x7ff370ad7810>],\n",
              "       [<matplotlib.axes._subplots.AxesSubplot object at 0x7ff370a8bd10>,\n",
              "        <matplotlib.axes._subplots.AxesSubplot object at 0x7ff370a4e250>,\n",
              "        <matplotlib.axes._subplots.AxesSubplot object at 0x7ff370a04750>],\n",
              "       [<matplotlib.axes._subplots.AxesSubplot object at 0x7ff3709b9cd0>,\n",
              "        <matplotlib.axes._subplots.AxesSubplot object at 0x7ff37097c150>,\n",
              "        <matplotlib.axes._subplots.AxesSubplot object at 0x7ff37097c190>],\n",
              "       [<matplotlib.axes._subplots.AxesSubplot object at 0x7ff3709b3790>,\n",
              "        <matplotlib.axes._subplots.AxesSubplot object at 0x7ff37091cb90>,\n",
              "        <matplotlib.axes._subplots.AxesSubplot object at 0x7ff3708eb590>]],\n",
              "      dtype=object)"
            ]
          },
          "metadata": {},
          "execution_count": 45
        },
        {
          "output_type": "display_data",
          "data": {
            "text/plain": [
              "<Figure size 720x720 with 12 Axes>"
            ],
            "image/png": "[encoded data removed]"
          },
          "metadata": {
            "needs_background": "light"
          }
        }
      ]
    },
    {
      "cell_type": "code",
      "source": [
        "df_worst.hist(bins=10, figsize=(10, 10), color = 'g')"
      ],
      "metadata": {
        "colab": {
          "base_uri": "https://localhost:8080/",
          "height": 843
        },
        "id": "pLwc9AYZBoOg",
        "outputId": "c449774b-6a3c-407c-de73-f941882e3e49"
      },
      "execution_count": 44,
      "outputs": [
        {
          "output_type": "execute_result",
          "data": {
            "text/plain": [
              "array([[<matplotlib.axes._subplots.AxesSubplot object at 0x7ff370ffc8d0>,\n",
              "        <matplotlib.axes._subplots.AxesSubplot object at 0x7ff37100e650>,\n",
              "        <matplotlib.axes._subplots.AxesSubplot object at 0x7ff370fbad10>],\n",
              "       [<matplotlib.axes._subplots.AxesSubplot object at 0x7ff370f79250>,\n",
              "        <matplotlib.axes._subplots.AxesSubplot object at 0x7ff370faf7d0>,\n",
              "        <matplotlib.axes._subplots.AxesSubplot object at 0x7ff370f66cd0>],\n",
              "       [<matplotlib.axes._subplots.AxesSubplot object at 0x7ff370f29290>,\n",
              "        <matplotlib.axes._subplots.AxesSubplot object at 0x7ff370edf6d0>,\n",
              "        <matplotlib.axes._subplots.AxesSubplot object at 0x7ff370edf710>],\n",
              "       [<matplotlib.axes._subplots.AxesSubplot object at 0x7ff370e94d10>,\n",
              "        <matplotlib.axes._subplots.AxesSubplot object at 0x7ff370e0d650>,\n",
              "        <matplotlib.axes._subplots.AxesSubplot object at 0x7ff370dc6b50>]],\n",
              "      dtype=object)"
            ]
          },
          "metadata": {},
          "execution_count": 44
        },
        {
          "output_type": "display_data",
          "data": {
            "text/plain": [
              "<Figure size 720x720 with 12 Axes>"
            ],
            "image/png": "[encoded data removed]"
          },
          "metadata": {
            "needs_background": "light"
          }
        }
      ]
    },
    {
      "cell_type": "code",
      "source": [
        "df_stderr.hist(bins=10, figsize=(10, 10), color = 'g', legend=True, grid=True)"
      ],
      "metadata": {
        "colab": {
          "base_uri": "https://localhost:8080/",
          "height": 843
        },
        "id": "KMtJm1KyC0Tq",
        "outputId": "aab5cc34-9d01-46f5-d918-bdaa6f792c1c"
      },
      "execution_count": 46,
      "outputs": [
        {
          "output_type": "execute_result",
          "data": {
            "text/plain": [
              "array([[<matplotlib.axes._subplots.AxesSubplot object at 0x7ff3705d6c90>,\n",
              "        <matplotlib.axes._subplots.AxesSubplot object at 0x7ff370657a50>,\n",
              "        <matplotlib.axes._subplots.AxesSubplot object at 0x7ff370578290>],\n",
              "       [<matplotlib.axes._subplots.AxesSubplot object at 0x7ff3705ae790>,\n",
              "        <matplotlib.axes._subplots.AxesSubplot object at 0x7ff370563c90>,\n",
              "        <matplotlib.axes._subplots.AxesSubplot object at 0x7ff3705271d0>],\n",
              "       [<matplotlib.axes._subplots.AxesSubplot object at 0x7ff3704db750>,\n",
              "        <matplotlib.axes._subplots.AxesSubplot object at 0x7ff370493b90>,\n",
              "        <matplotlib.axes._subplots.AxesSubplot object at 0x7ff370493bd0>],\n",
              "       [<matplotlib.axes._subplots.AxesSubplot object at 0x7ff370455210>,\n",
              "        <matplotlib.axes._subplots.AxesSubplot object at 0x7ff3703c2b10>,\n",
              "        <matplotlib.axes._subplots.AxesSubplot object at 0x7ff37037bfd0>]],\n",
              "      dtype=object)"
            ]
          },
          "metadata": {},
          "execution_count": 46
        },
        {
          "output_type": "display_data",
          "data": {
            "text/plain": [
              "<Figure size 720x720 with 12 Axes>"
            ],
            "image/png": "[encoded data removed]"
          },
          "metadata": {
            "needs_background": "light"
          }
        }
      ]
    },
    {
      "cell_type": "code",
      "source": [
        ""
      ],
      "metadata": {
        "id": "x6Bw-gYLC5tB"
      },
      "execution_count": 51,
      "outputs": []
    },
    {
      "cell_type": "code",
      "source": [
        ""
      ],
      "metadata": {
        "id": "Xz5GSihCHKu9"
      },
      "execution_count": null,
      "outputs": []
    }
  ]
}