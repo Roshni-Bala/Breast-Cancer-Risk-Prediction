{
  "nbformat": 4,
  "nbformat_minor": 0,
  "metadata": {
    "colab": {
      "name": "BCP_chatbot.ipynb",
      "provenance": [],
      "authorship_tag": "ABX9TyNVH/qbKqReUl/e72zeYfs4"
    },
    "kernelspec": {
      "name": "python3",
      "display_name": "Python 3"
    },
    "language_info": {
      "name": "python"
    }
  },
  "cells": [
    {
      "cell_type": "code",
      "execution_count": 9,
      "metadata": {
        "colab": {
          "base_uri": "https://localhost:8080/"
        },
        "id": "r7ogQTpZ1mM2",
        "outputId": "e6a11f58-b361-482d-8db5-b3280e1e687d"
      },
      "outputs": [
        {
          "output_type": "stream",
          "name": "stdout",
          "text": [
            "okRequirement already satisfied: chatterbot in /usr/local/lib/python3.7/dist-packages (1.0.8)\n",
            "Requirement already satisfied: python-dateutil<2.9,>=2.8 in /usr/local/lib/python3.7/dist-packages (from chatterbot) (2.8.2)\n",
            "Requirement already satisfied: pytz in /usr/local/lib/python3.7/dist-packages (from chatterbot) (2022.1)\n",
            "Requirement already satisfied: mathparse<0.2,>=0.1 in /usr/local/lib/python3.7/dist-packages (from chatterbot) (0.1.2)\n",
            "Requirement already satisfied: sqlalchemy<1.4,>=1.3 in /usr/local/lib/python3.7/dist-packages (from chatterbot) (1.3.24)\n",
            "Requirement already satisfied: six>=1.5 in /usr/local/lib/python3.7/dist-packages (from python-dateutil<2.9,>=2.8->chatterbot) (1.15.0)\n"
          ]
        }
      ],
      "source": [
        "!pip install chatterbot\n"
      ]
    },
    {
      "cell_type": "code",
      "source": [
        "!pip install chatterbot-corpus"
      ],
      "metadata": {
        "colab": {
          "base_uri": "https://localhost:8080/"
        },
        "id": "n5hkDeS63Zmf",
        "outputId": "769efe7f-c768-403b-a1f9-8a80f2afccdf"
      },
      "execution_count": 10,
      "outputs": [
        {
          "output_type": "stream",
          "name": "stdout",
          "text": [
            "Requirement already satisfied: chatterbot-corpus in /usr/local/lib/python3.7/dist-packages (1.2.0)\n",
            "Requirement already satisfied: PyYAML<4.0,>=3.12 in /usr/local/lib/python3.7/dist-packages (from chatterbot-corpus) (3.13)\n"
          ]
        }
      ]
    },
    {
      "cell_type": "code",
      "source": [
        "!pip install pytz"
      ],
      "metadata": {
        "colab": {
          "base_uri": "https://localhost:8080/"
        },
        "id": "wS7EhrHA2i5k",
        "outputId": "1bb0e509-5625-4095-ff04-0f8d14340cfe"
      },
      "execution_count": 11,
      "outputs": [
        {
          "output_type": "stream",
          "name": "stdout",
          "text": [
            "Requirement already satisfied: pytz in /usr/local/lib/python3.7/dist-packages (2022.1)\n"
          ]
        }
      ]
    },
    {
      "cell_type": "code",
      "source": [
        "import chatterbot\n",
        "from chatterbot import ChatBot\n",
        "from chatterbot.trainers import ChatterBotCorpusTrainer\n",
        "import os\n",
        "os.system('mv /usr/local/lib/python3.7/dist-packages/chatterbot_corpus/data/english /content/english')\n",
        "bot = ChatBot('Terminal', storage_adapter='chatterbot.storage.SQLStorageAdapter', logic_adapters=['chatterbot.logic.BestMatch'],\n",
        "              database_uri='sqlite:///database.sqlite3')\n",
        "trainer = ChatterBotCorpusTrainer(bot)\n",
        "path = '/content/english'\n",
        "for file in os.listdir(path):\n",
        "    file_path = '/content/english/'+ file\n",
        "    trainer.train(file_path)"
      ],
      "metadata": {
        "colab": {
          "base_uri": "https://localhost:8080/"
        },
        "id": "xWewBXsD16Dp",
        "outputId": "a3038ab3-d360-470b-9a5c-ffa4bc8dfdd6"
      },
      "execution_count": 15,
      "outputs": [
        {
          "output_type": "stream",
          "name": "stdout",
          "text": [
            "Training greetings.yml: [####################] 100%\n",
            "Training conversations.yml: [####################] 100%\n",
            "Training trivia.yml: [####################] 100%\n",
            "Training movies.yml: [####################] 100%\n",
            "Training politics.yml: [####################] 100%\n",
            "Training computers.yml: [####################] 100%\n",
            "Training literature.yml: [####################] 100%\n",
            "Training emotion.yml: [####################] 100%\n",
            "Training science.yml: [####################] 100%\n",
            "Training food.yml: [####################] 100%\n",
            "Training sports.yml: [####################] 100%\n",
            "Training gossip.yml: [####################] 100%\n",
            "Training psychology.yml: [####################] 100%\n",
            "Training health.yml: [####################] 100%\n",
            "Training ai.yml: [####################] 100%\n",
            "Training history.yml: [####################] 100%\n",
            "Training humor.yml: [####################] 100%\n",
            "Training botprofile.yml: [####################] 100%\n",
            "Training money.yml: [####################] 100%\n"
          ]
        }
      ]
    },
    {
      "cell_type": "code",
      "source": [
        "while True:\n",
        "    try:\n",
        "        user_input = input()\n",
        "        bot_response = bot.get_response(user_input)\n",
        "        print(bot_response)\n",
        "    except (KeyboardInterrupt, EOFError, SystemExit):\n",
        "        break"
      ],
      "metadata": {
        "colab": {
          "base_uri": "https://localhost:8080/"
        },
        "id": "AKtGxkfp2sfG",
        "outputId": "a0529228-777a-4bb0-8e66-ebecf0e101f0"
      },
      "execution_count": 16,
      "outputs": [
        {
          "name": "stdout",
          "output_type": "stream",
          "text": [
            "what is money?\n",
            "standard pieces of gold, silver, copper, nickel, etc. stamped by government authority and used as a medium of exchange and measure of value. any substance or article used as money, as bank notes, checks, etc.\n",
            "what is AI?\n",
            "Artificial Intelligence is the branch of engineering and science devoted to constructing machines that think.\n",
            "\n"
          ]
        }
      ]
    },
    {
      "cell_type": "code",
      "source": [
        ""
      ],
      "metadata": {
        "id": "OCdq4p_FZg0q"
      },
      "execution_count": null,
      "outputs": []
    }
  ]
}